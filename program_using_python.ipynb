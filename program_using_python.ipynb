{
 "cells": [
  {
   "cell_type": "markdown",
   "metadata": {},
   "source": [
    "# 3. 一些简单的数值程序\n",
    "## 3.1 穷举法"
   ]
  },
  {
   "cell_type": "code",
   "execution_count": 5,
   "metadata": {},
   "outputs": [
    {
     "name": "stdout",
     "output_type": "stream",
     "text": [
      "-28 is not a perfect cube\n"
     ]
    }
   ],
   "source": [
    "#寻找完全立方数的立方根\n",
    "x = int(input('Enter an integer:'))\n",
    "ans = 0\n",
    "while ans**3 < abs(x):\n",
    "    ans = ans + 1\n",
    "if ans**3 != abs(x):\n",
    "    print(x,'is not a perfect cube')\n",
    "else:\n",
    "    if x < 0:\n",
    "        ans = -ans\n",
    "    print('Cube root of',x,'is',ans)"
   ]
  },
  {
   "cell_type": "code",
   "execution_count": null,
   "metadata": {},
   "outputs": [],
   "source": [
    "#编写一个程序，要求用户输入一个整数，然后输出两个整数root和pwr，满足0 < pwr < 6，并且root**pwr等于用户输入的整数。如果不存在这样一对整数，则输出一条消息进行说明\n",
    "u_int = int(input('please input an integer:'))\n",
    "count = 0\n",
    "for pwr in range(2,7):\n",
    "    root = 0\n",
    "    while root**pwr < abs(u_int):\n",
    "        root += 1\n",
    "        print(root,pwr,'guess')\n",
    "    if root**pwr == abs(u_int):\n",
    "        if u_int < 0:\n",
    "            root = -root\n",
    "        print(root,pwr,'符合')\n",
    "    else:\n",
    "        print('指数为',pwr,'的情况下没有对应的root')\n",
    "        count += 1\n",
    "if count == 5:\n",
    "    print('找不到这个数对应的root与pwr')"
   ]
  },
  {
   "cell_type": "markdown",
   "metadata": {},
   "source": [
    "## 3.2 for 循环\n"
   ]
  },
  {
   "cell_type": "code",
   "execution_count": null,
   "metadata": {},
   "outputs": [],
   "source": [
    "for i in range(start,stop,step)"
   ]
  },
  {
   "cell_type": "code",
   "execution_count": 63,
   "metadata": {},
   "outputs": [
    {
     "name": "stdout",
     "output_type": "stream",
     "text": [
      "0\n",
      "1\n",
      "2\n",
      "3\n"
     ]
    }
   ],
   "source": [
    "x = 4\n",
    "for i in range(0, x):\n",
    "    print(i)\n",
    "    x = 5"
   ]
  },
  {
   "cell_type": "code",
   "execution_count": 64,
   "metadata": {},
   "outputs": [],
   "source": [
    "s = '1.23,2.4,3.123'"
   ]
  },
  {
   "cell_type": "code",
   "execution_count": 69,
   "metadata": {},
   "outputs": [
    {
     "name": "stdout",
     "output_type": "stream",
     "text": [
      "6.753\n"
     ]
    }
   ],
   "source": [
    "sums = 0\n",
    "for i in s.split(','):\n",
    "    sums += float(i)\n",
    "print(sums)"
   ]
  },
  {
   "cell_type": "code",
   "execution_count": 2,
   "metadata": {},
   "outputs": [
    {
     "name": "stdout",
     "output_type": "stream",
     "text": [
      "low= 0.0 high= 64 ans= 32.0\n",
      "low= 0.0 high= 32.0 ans= 16.0\n",
      "low= 0.0 high= 16.0 ans= 8.0\n",
      "numGuesses= 3\n",
      "4.0 is close to square root of 64\n"
     ]
    }
   ],
   "source": [
    "#bisection\n",
    "x = 64\n",
    "epsilon = 0.01\n",
    "numGuesses = 0\n",
    "low = 0.0\n",
    "high = max(1,abs(x))\n",
    "ans = (low+high)/2\n",
    "while abs(ans**3 - abs(x)) > epsilon:\n",
    "    if x<0:\n",
    "        print('low=',-low,'high=',-high,'ans=',-ans)\n",
    "    else:\n",
    "        print('low=',low,'high=',high,'ans=',ans)\n",
    "    numGuesses += 1\n",
    "    if ans**3 < abs(x):\n",
    "        low = ans\n",
    "    else:\n",
    "        high = ans\n",
    "    ans = (high + low)/2.0\n",
    "if x < 0:\n",
    "    ans = -ans\n",
    "print('numGuesses=',numGuesses)\n",
    "print(ans,'is close to square root of',x)"
   ]
  },
  {
   "cell_type": "code",
   "execution_count": 12,
   "metadata": {},
   "outputs": [
    {
     "name": "stdout",
     "output_type": "stream",
     "text": [
      "low= -0.0 high= -1164 ans= -582.0\n",
      "low= -0.0 high= -582.0 ans= -291.0\n",
      "low= -0.0 high= -291.0 ans= -145.5\n",
      "low= -0.0 high= -145.5 ans= -72.75\n",
      "low= -0.0 high= -72.75 ans= -36.375\n",
      "low= -0.0 high= -36.375 ans= -18.1875\n",
      "low= -0.0 high= -18.1875 ans= -9.09375\n",
      "low= -9.09375 high= -18.1875 ans= -13.640625\n",
      "low= -9.09375 high= -13.640625 ans= -11.3671875\n",
      "low= -9.09375 high= -11.3671875 ans= -10.23046875\n",
      "low= -10.23046875 high= -11.3671875 ans= -10.798828125\n",
      "low= -10.23046875 high= -10.798828125 ans= -10.5146484375\n",
      "low= -10.5146484375 high= -10.798828125 ans= -10.65673828125\n",
      "low= -10.5146484375 high= -10.65673828125 ans= -10.585693359375\n",
      "low= -10.5146484375 high= -10.585693359375 ans= -10.5501708984375\n",
      "low= -10.5146484375 high= -10.5501708984375 ans= -10.53240966796875\n",
      "low= -10.5146484375 high= -10.53240966796875 ans= -10.523529052734375\n",
      "low= -10.5146484375 high= -10.523529052734375 ans= -10.519088745117188\n",
      "low= -10.519088745117188 high= -10.523529052734375 ans= -10.521308898925781\n",
      "low= -10.519088745117188 high= -10.521308898925781 ans= -10.520198822021484\n",
      "low= -10.519088745117188 high= -10.520198822021484 ans= -10.519643783569336\n",
      "low= -10.519088745117188 high= -10.519643783569336 ans= -10.519366264343262\n",
      "numGuesses= 22\n",
      "-10.519227504730225 is close to square root of -1164\n"
     ]
    }
   ],
   "source": [
    "x = -1164\n",
    "epsilon = 0.01\n",
    "numGuesses = 0\n",
    "low = 0.0\n",
    "high = max(1,abs(x))\n",
    "ans = (low+high)/2\n",
    "while abs(ans**3 - abs(x)) > epsilon:\n",
    "    if x<0:\n",
    "        print('low=',-low,'high=',-high,'ans=',-ans)\n",
    "    else:\n",
    "        print('low=',low,'high=',high,'ans=',ans)\n",
    "    numGuesses += 1\n",
    "    if ans**3 < abs(x):\n",
    "        low = ans\n",
    "    else:\n",
    "        high = ans\n",
    "    ans = (high + low)/2.0\n",
    "if x < 0:\n",
    "    ans = -ans\n",
    "print('numGuesses=',numGuesses)\n",
    "print(ans,'is close to square root of',x)"
   ]
  },
  {
   "cell_type": "code",
   "execution_count": 15,
   "metadata": {},
   "outputs": [
    {
     "name": "stdout",
     "output_type": "stream",
     "text": [
      "numGuesses= 17\n",
      "cube root of  11235 is about 22.397060856005236\n"
     ]
    }
   ],
   "source": [
    "#牛顿法\n",
    "x = 11235\n",
    "epsilon = 0.01\n",
    "numGuesses = 0\n",
    "ans = x/2\n",
    "while abs(ans**3 - x) >= epsilon:\n",
    "    ans = ans - ((ans**3-x)/(3*(ans**2)))\n",
    "    numGuesses += 1\n",
    "print('numGuesses=',numGuesses)\n",
    "print('cube root of ',x,'is about',ans)"
   ]
  },
  {
   "cell_type": "markdown",
   "metadata": {},
   "source": [
    "## 4.1 函数\n",
    "Python提供了若干种语言特性，可以相对容易地扩展和重用代码，其中最重要的就是函数"
   ]
  },
  {
   "cell_type": "code",
   "execution_count": 16,
   "metadata": {},
   "outputs": [],
   "source": [
    "def isIn(str1,str2):\n",
    "    #str1 = str(str1)\n",
    "    #str2 = str(str2)\n",
    "    if (str1 in str2) or (str2 in str1):\n",
    "        return True\n",
    "    else:\n",
    "        return False"
   ]
  },
  {
   "cell_type": "code",
   "execution_count": 22,
   "metadata": {},
   "outputs": [
    {
     "data": {
      "text/plain": [
       "False"
      ]
     },
     "execution_count": 22,
     "metadata": {},
     "output_type": "execute_result"
    }
   ],
   "source": [
    "isIn('sde','sddfe')"
   ]
  },
  {
   "cell_type": "code",
   "execution_count": 30,
   "metadata": {},
   "outputs": [],
   "source": [
    "#关键字参数\n",
    "def printName(firstName, lastName, reverse=False):\n",
    "    if reverse:\n",
    "        print(lastName + ', ' + firstName)\n",
    "    else:\n",
    "        print(firstName, lastName)"
   ]
  },
  {
   "cell_type": "code",
   "execution_count": 34,
   "metadata": {},
   "outputs": [
    {
     "name": "stdout",
     "output_type": "stream",
     "text": [
      "Puchmajerova, Olga\n"
     ]
    }
   ],
   "source": [
    "printName('Olga', 'Puchmajerova', True)"
   ]
  },
  {
   "cell_type": "markdown",
   "metadata": {},
   "source": [
    "## 4.3 递归"
   ]
  },
  {
   "cell_type": "code",
   "execution_count": 1,
   "metadata": {},
   "outputs": [],
   "source": [
    "#阶乘计算，使用迭代方式与递归方式比较"
   ]
  },
  {
   "cell_type": "code",
   "execution_count": 6,
   "metadata": {},
   "outputs": [],
   "source": [
    "#迭代方式\n",
    "def factI(n):\n",
    "    '''assume n is int > 0\n",
    "    return n!'''\n",
    "    result = 1\n",
    "    while n > 1:\n",
    "        result = n*result\n",
    "        n = n-1\n",
    "    return result"
   ]
  },
  {
   "cell_type": "code",
   "execution_count": 7,
   "metadata": {},
   "outputs": [
    {
     "data": {
      "text/plain": [
       "3628800"
      ]
     },
     "execution_count": 7,
     "metadata": {},
     "output_type": "execute_result"
    }
   ],
   "source": [
    "factI(10)"
   ]
  },
  {
   "cell_type": "code",
   "execution_count": 8,
   "metadata": {},
   "outputs": [],
   "source": [
    "#递归方式\n",
    "def factR(n):\n",
    "'''assume n is int > 0\n",
    "    return n!'''\n",
    "    if n == 1:\n",
    "        result = 1\n",
    "    else:\n",
    "        result = n * factR(n-1)\n",
    "    return result"
   ]
  },
  {
   "cell_type": "code",
   "execution_count": 9,
   "metadata": {},
   "outputs": [
    {
     "data": {
      "text/plain": [
       "3628800"
      ]
     },
     "execution_count": 9,
     "metadata": {},
     "output_type": "execute_result"
    }
   ],
   "source": [
    "factR(10)"
   ]
  },
  {
   "cell_type": "code",
   "execution_count": 10,
   "metadata": {},
   "outputs": [],
   "source": [
    "#fibonacci recurrence\n",
    "def fib(n):\n",
    "    '''assume n int>=0\n",
    "    return Fibonacci of n'''\n",
    "    if n ==0 or n==1:\n",
    "        return 1\n",
    "    else:\n",
    "        return fib(n-1) + fib(n-2)\n",
    "\n",
    "def testFib(n):\n",
    "    for i in range(n+1):\n",
    "        print('fib of',i,'=',fib(i))"
   ]
  },
  {
   "cell_type": "code",
   "execution_count": 1,
   "metadata": {},
   "outputs": [],
   "source": [
    "#Palindormes"
   ]
  },
  {
   "cell_type": "code",
   "execution_count": 2,
   "metadata": {},
   "outputs": [],
   "source": [
    "def isPalindrome(s):\n",
    "    '''assumes s is a str\n",
    "    return true if letters in s form a palindrome; False otherwise. None-letters and capitalization are ignored'''\n",
    "    \n",
    "    def toChars(s):\n",
    "        s = s.lower()\n",
    "        letters = ''\n",
    "        for c in s:\n",
    "            if c in 'abcdefghijklmnopqrstuvwxyz':\n",
    "                letters = letters + c\n",
    "        return letters\n",
    "    \n",
    "    def isPal(s):\n",
    "        if len(s) <= 1:\n",
    "            return True\n",
    "        else:\n",
    "            return s[0] == s[-1] and isPal(s[1:-1])\n",
    "    return isPal(toChars(s))"
   ]
  },
  {
   "cell_type": "markdown",
   "metadata": {},
   "source": [
    "## 4.4 全局变量\n",
    "因为全局变量可以在程序中的很多地方被修改或读取，所以草率地使用全局变量会破坏局部性。尽管如此，全局变量有时真的很有用。"
   ]
  },
  {
   "cell_type": "markdown",
   "metadata": {},
   "source": [
    "## 4.5 Modules"
   ]
  },
  {
   "cell_type": "code",
   "execution_count": 4,
   "metadata": {},
   "outputs": [],
   "source": [
    "#import circle\n",
    "#form circle import *"
   ]
  },
  {
   "cell_type": "markdown",
   "metadata": {},
   "source": [
    "## 4.6 Files"
   ]
  },
  {
   "cell_type": "code",
   "execution_count": 5,
   "metadata": {},
   "outputs": [],
   "source": [
    "nameHandle = open('kids','w')\n",
    "for i in range(2):\n",
    "    name = input('Enter name:')\n",
    "    nameHandle.write(name + '\\n')\n",
    "nameHandle.close()"
   ]
  },
  {
   "cell_type": "code",
   "execution_count": 6,
   "metadata": {},
   "outputs": [
    {
     "name": "stdout",
     "output_type": "stream",
     "text": [
      "xusitian\n",
      "\n",
      "xupu\n",
      "\n"
     ]
    }
   ],
   "source": [
    "nameHandle = open('kids','r')\n",
    "for line in nameHandle:\n",
    "    print(line)\n",
    "nameHandle.close()"
   ]
  },
  {
   "cell_type": "code",
   "execution_count": 7,
   "metadata": {},
   "outputs": [
    {
     "name": "stdout",
     "output_type": "stream",
     "text": [
      "xusitian\n",
      "xupu\n",
      "David\n",
      "Andrea\n"
     ]
    }
   ],
   "source": [
    "nameHandle = open('kids','a') # don't want to overwritten 'a' means 'appending' instead of writing\n",
    "nameHandle.write('David\\n')\n",
    "nameHandle.write('Andrea\\n')\n",
    "nameHandle.close()\n",
    "nameHandle = open('kids','r')\n",
    "for line in nameHandle:\n",
    "    print(line[:-1])\n",
    "nameHandle.close()"
   ]
  },
  {
   "cell_type": "code",
   "execution_count": 11,
   "metadata": {},
   "outputs": [
    {
     "data": {
      "text/plain": [
       "['xusitian\\n', 'xupu\\n', 'David\\n', 'Andrea\\n']"
      ]
     },
     "execution_count": 11,
     "metadata": {},
     "output_type": "execute_result"
    }
   ],
   "source": [
    "nameHandle = open('kids')\n",
    "nameHandle.readlines()\n",
    "#nameHandle.close()"
   ]
  },
  {
   "cell_type": "markdown",
   "metadata": {},
   "source": [
    "# 5 structured types, mutability, and higher-order functions"
   ]
  },
  {
   "cell_type": "markdown",
   "metadata": {},
   "source": [
    "## 5.1 tuples"
   ]
  },
  {
   "cell_type": "markdown",
   "metadata": {},
   "source": [
    "##### like strings, tuples are immutable ordered sequences of elements"
   ]
  },
  {
   "cell_type": "code",
   "execution_count": 15,
   "metadata": {},
   "outputs": [
    {
     "data": {
      "text/plain": [
       "((1, 'two', 3), 3.25)"
      ]
     },
     "execution_count": 15,
     "metadata": {},
     "output_type": "execute_result"
    }
   ],
   "source": [
    "t1 = (1,'two',3)\n",
    "t2 = (t1,3.25)\n",
    "t2"
   ]
  },
  {
   "cell_type": "code",
   "execution_count": 16,
   "metadata": {},
   "outputs": [],
   "source": [
    "x,y = (3,4)"
   ]
  },
  {
   "cell_type": "code",
   "execution_count": 17,
   "metadata": {},
   "outputs": [
    {
     "data": {
      "text/plain": [
       "3"
      ]
     },
     "execution_count": 17,
     "metadata": {},
     "output_type": "execute_result"
    }
   ],
   "source": [
    "x"
   ]
  },
  {
   "cell_type": "code",
   "execution_count": 18,
   "metadata": {},
   "outputs": [],
   "source": [
    "a,b,c = 'xyz' #Python’s multiple assignment statement to extract the individual elements"
   ]
  },
  {
   "cell_type": "code",
   "execution_count": 19,
   "metadata": {},
   "outputs": [
    {
     "data": {
      "text/plain": [
       "'x'"
      ]
     },
     "execution_count": 19,
     "metadata": {},
     "output_type": "execute_result"
    }
   ],
   "source": [
    "a"
   ]
  },
  {
   "cell_type": "code",
   "execution_count": 23,
   "metadata": {},
   "outputs": [],
   "source": [
    "def findExtremeDivisors(n1,n2):\n",
    "    '''assumes that n1 and n2 are positive ints\n",
    "    returns a tuple containing the smallest common divisor >1 and\n",
    "    the largest common divisor of n1 and n2. If no common divisor, returns(None,None)'''\n",
    "    minVal, maxVal = None, None\n",
    "    for i in range(2, min(n1,n2)+1):\n",
    "        if n1%i == 0 and n2%i == 0:\n",
    "            if minVal == None:\n",
    "                minVal = i\n",
    "            maxVal = i\n",
    "    return (minVal, maxVal)"
   ]
  },
  {
   "cell_type": "code",
   "execution_count": 24,
   "metadata": {},
   "outputs": [],
   "source": [
    "minDivisor, maxDivisor = findExtremeDivisors(100,200)"
   ]
  },
  {
   "cell_type": "code",
   "execution_count": 25,
   "metadata": {},
   "outputs": [
    {
     "data": {
      "text/plain": [
       "2"
      ]
     },
     "execution_count": 25,
     "metadata": {},
     "output_type": "execute_result"
    }
   ],
   "source": [
    "minDivisor"
   ]
  },
  {
   "cell_type": "code",
   "execution_count": 26,
   "metadata": {},
   "outputs": [
    {
     "data": {
      "text/plain": [
       "100"
      ]
     },
     "execution_count": 26,
     "metadata": {},
     "output_type": "execute_result"
    }
   ],
   "source": [
    "maxDivisor"
   ]
  },
  {
   "cell_type": "markdown",
   "metadata": {},
   "source": [
    "## 5.2 range"
   ]
  },
  {
   "cell_type": "code",
   "execution_count": 2,
   "metadata": {},
   "outputs": [
    {
     "name": "stdout",
     "output_type": "stream",
     "text": [
      "Help on class range in module builtins:\n",
      "\n",
      "class range(object)\n",
      " |  range(stop) -> range object\n",
      " |  range(start, stop[, step]) -> range object\n",
      " |  \n",
      " |  Return an object that produces a sequence of integers from start (inclusive)\n",
      " |  to stop (exclusive) by step.  range(i, j) produces i, i+1, i+2, ..., j-1.\n",
      " |  start defaults to 0, and stop is omitted!  range(4) produces 0, 1, 2, 3.\n",
      " |  These are exactly the valid indices for a list of 4 elements.\n",
      " |  When step is given, it specifies the increment (or decrement).\n",
      " |  \n",
      " |  Methods defined here:\n",
      " |  \n",
      " |  __contains__(self, key, /)\n",
      " |      Return key in self.\n",
      " |  \n",
      " |  __eq__(self, value, /)\n",
      " |      Return self==value.\n",
      " |  \n",
      " |  __ge__(self, value, /)\n",
      " |      Return self>=value.\n",
      " |  \n",
      " |  __getattribute__(self, name, /)\n",
      " |      Return getattr(self, name).\n",
      " |  \n",
      " |  __getitem__(self, key, /)\n",
      " |      Return self[key].\n",
      " |  \n",
      " |  __gt__(self, value, /)\n",
      " |      Return self>value.\n",
      " |  \n",
      " |  __hash__(self, /)\n",
      " |      Return hash(self).\n",
      " |  \n",
      " |  __iter__(self, /)\n",
      " |      Implement iter(self).\n",
      " |  \n",
      " |  __le__(self, value, /)\n",
      " |      Return self<=value.\n",
      " |  \n",
      " |  __len__(self, /)\n",
      " |      Return len(self).\n",
      " |  \n",
      " |  __lt__(self, value, /)\n",
      " |      Return self<value.\n",
      " |  \n",
      " |  __ne__(self, value, /)\n",
      " |      Return self!=value.\n",
      " |  \n",
      " |  __new__(*args, **kwargs) from builtins.type\n",
      " |      Create and return a new object.  See help(type) for accurate signature.\n",
      " |  \n",
      " |  __reduce__(...)\n",
      " |      helper for pickle\n",
      " |  \n",
      " |  __repr__(self, /)\n",
      " |      Return repr(self).\n",
      " |  \n",
      " |  __reversed__(...)\n",
      " |      Return a reverse iterator.\n",
      " |  \n",
      " |  count(...)\n",
      " |      rangeobject.count(value) -> integer -- return number of occurrences of value\n",
      " |  \n",
      " |  index(...)\n",
      " |      rangeobject.index(value, [start, [stop]]) -> integer -- return index of value.\n",
      " |      Raise ValueError if the value is not present.\n",
      " |  \n",
      " |  ----------------------------------------------------------------------\n",
      " |  Data descriptors defined here:\n",
      " |  \n",
      " |  start\n",
      " |  \n",
      " |  step\n",
      " |  \n",
      " |  stop\n",
      "\n"
     ]
    }
   ],
   "source": [
    "help(range)"
   ]
  },
  {
   "cell_type": "markdown",
   "metadata": {},
   "source": [
    "## 5.3 list"
   ]
  },
  {
   "cell_type": "code",
   "execution_count": 3,
   "metadata": {},
   "outputs": [
    {
     "name": "stdout",
     "output_type": "stream",
     "text": [
      "L3= [1, 2, 3, 4, 5, 6]\n",
      "L1= [1, 2, 3, 4, 5, 6]\n",
      "L1= [1, 2, 3, 4, 5, 6, [4, 5, 6]]\n"
     ]
    }
   ],
   "source": [
    "L1 = [1,2,3]\n",
    "L2 = [4,5,6]\n",
    "L3 = L1+L2\n",
    "print('L3=',L3)\n",
    "L1.extend(L2)\n",
    "print('L1=',L1)\n",
    "L1.append(L2)\n",
    "print('L1=',L1)"
   ]
  },
  {
   "cell_type": "code",
   "execution_count": null,
   "metadata": {},
   "outputs": [],
   "source": [
    "#methods associated with lists\n",
    "L.append(e) #adds the object e to the end of L\n",
    "L.count(e) #returns the number of times that e occurs in L\n",
    "L.insert(i,e) #inserts the object e into L at index i\n",
    "L.extend(L1) #adds the items in list L1 to the end of L\n",
    "L.remove(e) #deletes the first occurrence of e from L\n",
    "L.index(e) #returns the index of the first occurrence of e in L, raises an exception if e is not in L\n",
    "L.pop(i) #removes and returns the item at index i in L, raises an exception if L is empty. if i is omitted, it defaults to -1, to remove and return the last element of L.\n",
    "L.sort() #sorts the elements of L in ascending order\n",
    "L.reverse() # reverses the order of the elements in L."
   ]
  },
  {
   "cell_type": "markdown",
   "metadata": {},
   "source": [
    "### 5.3.1 cloning"
   ]
  },
  {
   "cell_type": "code",
   "execution_count": 7,
   "metadata": {},
   "outputs": [
    {
     "name": "stdout",
     "output_type": "stream",
     "text": [
      "L1= [2, 3, 4]\n"
     ]
    }
   ],
   "source": [
    "def removeDups(L1,L2):\n",
    "    '''Assumes that L1 and L2 are lists.\n",
    "    removes any element from L1 that also occurs in L2'''\n",
    "    for e1 in L1:\n",
    "        if e1 in L2:\n",
    "            L1.remove(e1)\n",
    "L1 = [1,2,3,4]\n",
    "L2 = [1,2,5,6]\n",
    "removeDups(L1,L2)\n",
    "print('L1=',L1)"
   ]
  },
  {
   "cell_type": "code",
   "execution_count": 8,
   "metadata": {},
   "outputs": [],
   "source": [
    "#surprised because L1[0]被移除后 循环下一个L1[1]为3  solution：make a copy for L1  but not  newL1=L1 this just introduce a new name for existing list"
   ]
  },
  {
   "cell_type": "markdown",
   "metadata": {},
   "source": [
    "### 5.3.2 list comprehension"
   ]
  },
  {
   "cell_type": "code",
   "execution_count": 9,
   "metadata": {},
   "outputs": [
    {
     "name": "stdout",
     "output_type": "stream",
     "text": [
      "[1, 4, 9, 16, 25, 36]\n"
     ]
    }
   ],
   "source": [
    "L = [x**2 for x in range(1,7)]\n",
    "print(L)"
   ]
  },
  {
   "cell_type": "code",
   "execution_count": 10,
   "metadata": {},
   "outputs": [
    {
     "name": "stdout",
     "output_type": "stream",
     "text": [
      "[1, 4, 9]\n"
     ]
    }
   ],
   "source": [
    "mixed = [1,2,'a',3,4.0]\n",
    "print([x**2 for x in mixed if type(x)==int])"
   ]
  },
  {
   "cell_type": "markdown",
   "metadata": {},
   "source": [
    "## 5.4 functions as objects"
   ]
  },
  {
   "cell_type": "code",
   "execution_count": 12,
   "metadata": {},
   "outputs": [
    {
     "name": "stdout",
     "output_type": "stream",
     "text": [
      "1\n",
      "28\n",
      "9\n"
     ]
    }
   ],
   "source": [
    "L1 = [1,28,36]\n",
    "L2 = [2,57,9]\n",
    "for i in map(min,L1,L2):\n",
    "    print(i)"
   ]
  },
  {
   "cell_type": "code",
   "execution_count": 11,
   "metadata": {},
   "outputs": [
    {
     "name": "stdout",
     "output_type": "stream",
     "text": [
      "[1, 4, 3, 1]\n"
     ]
    }
   ],
   "source": [
    "L = []\n",
    "for i in map(lambda x,y: x**y, [1,2,3,4],[3,2,1,0]):\n",
    "    L.append(i)\n",
    "print(L)"
   ]
  },
  {
   "cell_type": "markdown",
   "metadata": {},
   "source": [
    "## 5.5 strings,tuples,ranges,and lists"
   ]
  },
  {
   "cell_type": "code",
   "execution_count": null,
   "metadata": {},
   "outputs": [],
   "source": [
    "#common operations on sequence types\n",
    "seq[i] #return the ith element in the sequence\n",
    "len(seq) # returns the length of the sequence\n",
    "seq1 + seq2 #returns the concatenation of the two sequences(not available for ranges)\n",
    "n*seq #returns a sequence that repeats seq n times(not available for ranges)\n",
    "seq[start:end] #returns a slice of the sequence\n",
    "e in seq #is True if e is contained in the sequence and False otherwise\n",
    "e not in seq # is True if e is not in the sequence and False otherwise\n",
    "for e in seq #iterates over the elements of the sequence"
   ]
  },
  {
   "cell_type": "markdown",
   "metadata": {},
   "source": [
    "## 5.6 Dictionaries"
   ]
  },
  {
   "cell_type": "code",
   "execution_count": null,
   "metadata": {},
   "outputs": [],
   "source": [
    "#some common operations on dicts\n",
    "len(d) # returns the number of items in d\n",
    "d.keys() #returns a view of the keys in d\n",
    "d.values() #returns a view of the values in d\n",
    "k in d #returns True if key k is in d\n",
    "d[k] #returns the item in d with key k\n",
    "d.get(k,v) #returns d[k] if k is in d, and v otherwise\n",
    "d[k] = v #associates the value v with the key k in d. if there is already a value associated with k, that value is replaced.\n",
    "del d[k] #removes the key k from d\n",
    "for k in d #iterates over the keys in d"
   ]
  },
  {
   "cell_type": "markdown",
   "metadata": {},
   "source": [
    "### 7 exceptions and assertions"
   ]
  },
  {
   "cell_type": "code",
   "execution_count": 18,
   "metadata": {},
   "outputs": [],
   "source": [
    "def sumDigits(s):\n",
    "    '''assumes s is a string\n",
    "    returns the sum of the decimal digits in s\n",
    "    for example, if s is 'a2b3c' it returns 5 '''\n",
    "    sum0 = 0\n",
    "    for i in s :\n",
    "        try:\n",
    "            i = int(i)\n",
    "            sum0 += i\n",
    "        except:\n",
    "            continue\n",
    "    return sum0"
   ]
  },
  {
   "cell_type": "code",
   "execution_count": 20,
   "metadata": {},
   "outputs": [
    {
     "data": {
      "text/plain": [
       "15"
      ]
     },
     "execution_count": 20,
     "metadata": {},
     "output_type": "execute_result"
    }
   ],
   "source": [
    "sumDigits('a2b3da325c')"
   ]
  },
  {
   "cell_type": "code",
   "execution_count": 37,
   "metadata": {},
   "outputs": [],
   "source": [
    "def findAnEven(L):\n",
    "    '''assumes L is a list of integers\n",
    "    returns the first even number in L\n",
    "    raises ValueError if L does not contain an even number'''\n",
    "   \n",
    "    for i in L:\n",
    "        if i%2 == 0:\n",
    "            return i\n",
    "            break\n",
    "\n",
    "    raise ValueError('L does not contain an even number')"
   ]
  },
  {
   "cell_type": "code",
   "execution_count": 39,
   "metadata": {},
   "outputs": [
    {
     "data": {
      "text/plain": [
       "2"
      ]
     },
     "execution_count": 39,
     "metadata": {},
     "output_type": "execute_result"
    }
   ],
   "source": [
    "findAnEven([1,2,4,6])"
   ]
  },
  {
   "cell_type": "markdown",
   "metadata": {},
   "source": [
    "### chapter 8"
   ]
  },
  {
   "cell_type": "markdown",
   "metadata": {},
   "source": [
    "## 8.类与面向对象编程"
   ]
  },
  {
   "cell_type": "markdown",
   "metadata": {},
   "source": [
    "### 8.1 抽象数据类型与类\n",
    "有两种非常强大的编程机制可以完成这个任务：分解和抽象。分解使程序具有结构，抽象则隐藏细节。"
   ]
  },
  {
   "cell_type": "code",
   "execution_count": 2,
   "metadata": {},
   "outputs": [],
   "source": [
    "#python中使用类实现数据抽象\n",
    "#简单实现整数集合抽象\n",
    "class IntSet(object):\n",
    "    '''IntSet 是一个整数集合'''\n",
    "    #关于实现（不是抽象）的信息\n",
    "    #集合的值由一个整数数组self.vals表示\n",
    "    #集合中的每个整数在self.vals中只出现一次\n",
    "    def __init__(self):\n",
    "        '''创建一个空的整数集合'''\n",
    "        self.vals = []\n",
    "        \n",
    "    def insert(self,e):\n",
    "        '''假设e是整数，将e插入self'''\n",
    "        if e not in self.vals:\n",
    "            self.vals.append(e)\n",
    "            \n",
    "    def member(self,e):\n",
    "        '''假设e是整数\n",
    "        如果e在self中，则返回True，否则返回False'''\n",
    "        return e in self.vals\n",
    "    \n",
    "    def remove(self, e):\n",
    "        '''假设e是整数，从self中删除e\n",
    "        如果e不在self中，则抛出ValueError异常'''\n",
    "        try:\n",
    "            self.vals.remove(e)\n",
    "        except:\n",
    "            raise ValueError(str(e) + 'not found')\n",
    "            \n",
    "    def getMembers(self):\n",
    "        '''返回一个包含self中元素的列表\n",
    "        对元素不进行排序'''\n",
    "        return self.vals[:]\n",
    "    \n",
    "    def __str__(self):\n",
    "        '''返回一个表示self的字符串'''\n",
    "        self.vals.sort()\n",
    "        result = ''\n",
    "        for e in self.vals:\n",
    "            result = result + str(e) + ','\n",
    "        return '{'+ result[:-1] + '}' #-1 可以忽略最后的逗号"
   ]
  },
  {
   "cell_type": "markdown",
   "metadata": {},
   "source": [
    "类定义中存在一个函数定义时，被定义的函数称为方法，并与这个类相关联。\n",
    "类支持两种操作：\n",
    "1、实例化： s = IntSet()\n",
    "2、属性引用 s.member"
   ]
  },
  {
   "cell_type": "markdown",
   "metadata": {},
   "source": [
    "Python中有一些特殊的方法名，这些名称的开头和结尾都是两个下划线\n",
    "__init__，只要一个类被实例化，就会调用该类中定义的__init__方法\n",
    "s = IntSet() 解释器会创建一个IntSet类型的新实例，然后调用IntSet.__init__方法，并使用新创建的对象作为实参，绑定到形参self上。 "
   ]
  },
  {
   "cell_type": "markdown",
   "metadata": {},
   "source": [
    "不应当把类与类的实例混为一谈，就像一个list类型的对象不应该与list类型混为一谈一样。"
   ]
  },
  {
   "cell_type": "markdown",
   "metadata": {},
   "source": [
    "### 8.2 继承\n",
    "继承提供了一种方便的机制，可以建立一组彼此相关的抽象。object类在最顶层。这很容易理解，因为在Python中，存在于运行时的一切都是对象。"
   ]
  },
  {
   "cell_type": "code",
   "execution_count": null,
   "metadata": {},
   "outputs": [],
   "source": [
    "### 8.3 封装与信息隐藏\n",
    "#生成器\n",
    "def getStudents(self):\n",
    "    '''按字母顺序每次返回成绩册中的一个学生'''\n",
    "    if not self.isSorted:\n",
    "        self.students.sort()\n",
    "        self.isSorted = True\n",
    "    for s in self.students:\n",
    "        yield s"
   ]
  },
  {
   "cell_type": "markdown",
   "metadata": {},
   "source": [
    "### 8.4 示例：抵押贷款"
   ]
  },
  {
   "cell_type": "code",
   "execution_count": 1,
   "metadata": {},
   "outputs": [],
   "source": [
    "import pylab"
   ]
  },
  {
   "cell_type": "code",
   "execution_count": 12,
   "metadata": {},
   "outputs": [],
   "source": [
    "def findPayment(loan, r, m):\n",
    "    '''assumes: loan and r are floats, m an int\n",
    "    returns the monthly payment for a mortage of size\n",
    "    loan at a monthly rate of r for m months'''\n",
    "    return loan*((r*(1+r)**m)/((1+r)**m-1))\n",
    "\n",
    "class Mortgage(object):\n",
    "    '''abstract class for building different kinds of mortgages'''\n",
    "    def __init__(self,loan,annRate,months):\n",
    "        '''assumes: loan and annRate are floats, months an int\n",
    "        creates a new mortgage of size loan, duration months, and annual rate annRate'''\n",
    "        self.loan = loan\n",
    "        self.rate = annRate/12\n",
    "        self.months = months\n",
    "        self.paid = [0.0]\n",
    "        self.outstanding = [loan] #本金\n",
    "        self.payment = findPayment(loan, self.rate, months)\n",
    "        self.legend = None #description of mortgage\n",
    "        \n",
    "    def makePayment(self):\n",
    "        '''make a payment'''\n",
    "        self.paid.append(self.payment)\n",
    "        reduction = self.payment - self.outstanding[-1]*self.rate #月还款-月利息\n",
    "        self.outstanding.append(self.outstanding[-1] - reduction)\n",
    "        \n",
    "    def getTotalPaid(self):\n",
    "        '''return the total amount paid so far'''\n",
    "        return sum(self.paid)\n",
    "    \n",
    "    def __str__(self):\n",
    "        return self.legend\n",
    "    \n",
    "    #带有绘图方法的Mortgage类\n",
    "    def plotPayments(self, style):\n",
    "        pylab.plot(self.paid[1:],style,label=self.legend)\n",
    "        \n",
    "    def plotBalance(self, style):\n",
    "        pylab.plot(self.outstanding,style,label=self.legend)\n",
    "        \n",
    "    def plotTotPd(self, style):\n",
    "        totPd = [self.paid[0]]\n",
    "        for i in range(1, len(self.paid)):\n",
    "            totPd.append(totPd[-1] + self.paid[i])\n",
    "        pylab.plot(totPd,style,label=self.legend)\n",
    "        \n",
    "    def plotNet(self, style):\n",
    "        totPd = [self.paid[0]]\n",
    "        for i in range(1, len(self.paid)):\n",
    "            totPd.append(totPd[-1] + self.paid[i])\n",
    "        equityAcquired = pylab.array([self.loan] * len(self.outstanding))\n",
    "        equityAcquired = equityAcquired - pylab.array(self.outstanding)\n",
    "        net = pylab.array(totPd) - equityAcquired\n",
    "        pylab.plot(net, style, label = self.legend)\n",
    "    "
   ]
  },
  {
   "cell_type": "code",
   "execution_count": 13,
   "metadata": {},
   "outputs": [],
   "source": [
    "class Fixed(Mortgage):\n",
    "    def __init__(self, loan, r, months):\n",
    "        Mortgage.__init__(self, loan, r, months)\n",
    "        self.legend = 'Fixed, ' + str(round(r*100,2)) + '%'\n",
    "        \n",
    "class FixedWithPts(Mortgage):\n",
    "    def __init__(self, loan, r, months, pts):\n",
    "        Mortgage.__init__(self,loan,r,months)\n",
    "        self.pts = pts\n",
    "        self.paid = [loan*(pts/100)]\n",
    "        self.legend = 'Fixed, ' + str(round(r*100,2)) + '%, '+ str(pts) +'points'\n",
    "        \n",
    "class TwoRate(Mortgage):\n",
    "    def __init__(self,loan,r,months,teaserRate, teaserMonths):\n",
    "        Mortgage.__init__(self, loan, teaserRate, months)\n",
    "        self.teaserMonths = teaserMonths\n",
    "        self.teaserRate = teaserRate\n",
    "        self.nextRate = r/12\n",
    "        self.legend = str(teaserRate*100) + '% for' + str(self.teaserMonths) + 'months, then' + str(round(r*100, 2)) + '%'\n",
    "        \n",
    "    def makePayment(self):\n",
    "        if len(self.paid) == self.teaserMonths + 1:\n",
    "            self.rate = self.nextRate\n",
    "            self.payment = findPayment(self.outstanding[-1],self.rate, (self.months - self.teaserMonths))\n",
    "        Mortgage.makePayment(self)"
   ]
  },
  {
   "cell_type": "code",
   "execution_count": 6,
   "metadata": {},
   "outputs": [],
   "source": [
    "def compareMortgages(amt, years, fixedRate, pts, ptsRate, varRate1, varRate2, varMonths):\n",
    "    totMonths = years*12\n",
    "    fixed1 = Fixed(amt,fixedRate,totMonths)\n",
    "    fixed2 = FixedWithPts(amt, ptsRate, totMonths, pts)\n",
    "    twoRate = TwoRate(amt, varRate2, totMonths, varRate1, varMonths)\n",
    "    morts = [fixed1, fixed2, twoRate]\n",
    "    for m in range(totMonths):\n",
    "        for mort in morts:\n",
    "            mort.makePayment()\n",
    "    for m in morts:\n",
    "        print(m)\n",
    "        print('Total payment = $' + str(int(m.getTotalPaid())))"
   ]
  },
  {
   "cell_type": "code",
   "execution_count": 7,
   "metadata": {},
   "outputs": [
    {
     "name": "stdout",
     "output_type": "stream",
     "text": [
      "Fixed, 7.0%\n",
      "Total payment = $4790177\n",
      "Fixed, 5.0%, 3.25points\n",
      "Total payment = $3930115\n",
      "4.5% for48months, then9.5%\n",
      "Total payment = $5514449\n"
     ]
    }
   ],
   "source": [
    "compareMortgages(amt=2000000, years=30,fixedRate=0.07,pts=3.25,ptsRate=0.05,varRate1=0.045,varRate2=0.095,varMonths=48)"
   ]
  },
  {
   "cell_type": "code",
   "execution_count": 15,
   "metadata": {},
   "outputs": [],
   "source": [
    "#绘制抵押贷款图形\n",
    "def plotMortgages(morts, amt):\n",
    "    def labelPlot(figure, title, xLabel, yLabel):\n",
    "        pylab.figure(figure)\n",
    "        pylab.title(title)\n",
    "        pylab.xlabel(xLabel)\n",
    "        pylab.ylabel(yLabel)\n",
    "        pylab.legend(loc = 'best')\n",
    "    styles = ['k-','k-.','k:']\n",
    "    #给图编号赋名\n",
    "    payments, cost, balance, netCost = 0, 1, 2, 3\n",
    "    for i in range(len(morts)):\n",
    "        pylab.figure(payments)\n",
    "        morts[i].plotPayments(styles[i])\n",
    "        pylab.figure(cost)\n",
    "        morts[i].plotTotPd(styles[i])\n",
    "        pylab.figure(balance)\n",
    "        morts[i].plotBalance(styles[i])\n",
    "        pylab.figure(netCost)\n",
    "        morts[i].plotNet(styles[i])\n",
    "    labelPlot(payments,'Monthly Payments of $' + str(amt) + 'Mortgages', 'Months','Monthly Payments')\n",
    "    labelPlot(cost,'Cash Outlay of $' + str(amt) + 'Mortgages','Months','Total Payments')\n",
    "    labelPlot(balance,'Balance Remaining of $' + str(amt) + 'Mortgages','Months','Remaining Loan Balance of $')\n",
    "    labelPlot(netCost,'Net Cost of $' + str(amt) + 'Mortgages','Months','Payments - Equity $')"
   ]
  },
  {
   "cell_type": "code",
   "execution_count": 14,
   "metadata": {},
   "outputs": [],
   "source": [
    "def compareMortgages(amt, years, fixedRate, pts, ptsRate, varRate1, varRate2, varMonths):\n",
    "    totMonths = years*12\n",
    "    fixed1 = Fixed(amt,fixedRate,totMonths)\n",
    "    fixed2 = FixedWithPts(amt, ptsRate, totMonths, pts)\n",
    "    twoRate = TwoRate(amt, varRate2, totMonths, varRate1, varMonths)\n",
    "    morts = [fixed1, fixed2, twoRate]\n",
    "    for m in range(totMonths):\n",
    "        for mort in morts:\n",
    "            mort.makePayment()\n",
    "    plotMortgages(morts,amt)"
   ]
  },
  {
   "cell_type": "code",
   "execution_count": 17,
   "metadata": {},
   "outputs": [
    {
     "data": {
      "image/png": "[encoded data removed]",
      "text/plain": [
       "<matplotlib.figure.Figure at 0xf9ef940>"
      ]
     },
     "metadata": {},
     "output_type": "display_data"
    },
    {
     "data": {
      "image/png": "[encoded data removed]",
      "text/plain": [
       "<matplotlib.figure.Figure at 0x11a7b8d0>"
      ]
     },
     "metadata": {},
     "output_type": "display_data"
    },
    {
     "data": {
      "image/png": "[encoded data removed]",
      "text/plain": [
       "<matplotlib.figure.Figure at 0x11af05f8>"
      ]
     },
     "metadata": {},
     "output_type": "display_data"
    },
    {
     "data": {
      "image/png": "[encoded data removed]",
      "text/plain": [
       "<matplotlib.figure.Figure at 0x11b5aba8>"
      ]
     },
     "metadata": {},
     "output_type": "display_data"
    }
   ],
   "source": [
    "compareMortgages(amt=2000000, years=30,fixedRate=0.07,pts=3.25,ptsRate=0.05,varRate1=0.045,varRate2=0.095,varMonths=48)\n",
    "pylab.show()"
   ]
  },
  {
   "cell_type": "markdown",
   "metadata": {},
   "source": [
    "## 12.背包与图的最优化问题\n",
    "最优化问题通常包括两部分：一是目标函数；二是约束条件集合"
   ]
  },
  {
   "cell_type": "markdown",
   "metadata": {},
   "source": [
    "### 12.1 背包问题\n",
    "| |价值|重量|价值/重量\n",
    "|--|--|--|--|\n",
    "|钟|175|10|17.5\n",
    "|油画|90|9|10\n",
    "|收音机|20|4|5\n",
    "|花瓶|50|2|25\n",
    "|书|10|1|10\n",
    "|电脑|200|20|10"
   ]
  },
  {
   "cell_type": "markdown",
   "metadata": {},
   "source": [
    "#### 12.1.1 贪婪算法"
   ]
  },
  {
   "cell_type": "code",
   "execution_count": 4,
   "metadata": {},
   "outputs": [],
   "source": [
    "#item类\n",
    "class Item(object):\n",
    "    def __init__(self, n, v, w):\n",
    "        self.name = n\n",
    "        self.value = v\n",
    "        self.weight = w\n",
    "    def getName(self):\n",
    "        return self.name\n",
    "    def getValue(self):\n",
    "        return self.value\n",
    "    def getWeight(self):\n",
    "        return self.weight\n",
    "    def __str__(self):\n",
    "        result = '<' + self.name + ', ' + str(self.value) + ', ' + str(self.weight) + '>'\n",
    "        return result\n",
    "def value(item):\n",
    "        return item.getValue()\n",
    "def weightInverse(item):\n",
    "        return 1.0/item.getWeight()\n",
    "def density(item):\n",
    "        return item.getValue()/item.getWeight()"
   ]
  },
  {
   "cell_type": "code",
   "execution_count": 6,
   "metadata": {},
   "outputs": [],
   "source": [
    "#贪婪算法的实现\n",
    "def greedy(items, maxWeight, keyFunction):\n",
    "    '''假设Items是列表， maxWeight >= 0\n",
    "        keyFunctions将物品元素映射为数值'''\n",
    "    itemsCopy = sorted(items, key=keyFunction, reverse=True)\n",
    "    result = []\n",
    "    totalValue, totalWeight = 0.0, 0.0\n",
    "    for i in range(len(itemsCopy)):\n",
    "        if (totalWeight + itemsCopy[i].getWeight()) <= maxWeight:\n",
    "            result.append(itemsCopy[i])\n",
    "            totalWeight += itemsCopy[i].getWeight()\n",
    "            totalValue += itemsCopy[i].getValue()\n",
    "    return (result, totalValue)"
   ]
  },
  {
   "cell_type": "code",
   "execution_count": 9,
   "metadata": {},
   "outputs": [],
   "source": [
    "#使用贪婪算法选择物品\n",
    "def buildItems():\n",
    "    names = ['clock','painting','radio','vase','book','computer']\n",
    "    values = [175,90,20,50,10,200]\n",
    "    weights = [10,9,4,2,1,20]\n",
    "    Items = []\n",
    "    for i in range(len(values)):\n",
    "        Items.append(Item(names[i],values[i],weights[i]))\n",
    "    return Items\n",
    "\n",
    "def testGreedy(items, maxWeight, keyFunction):\n",
    "    taken, val = greedy(items, maxWeight, keyFunction)\n",
    "    print('Total value of items taken is', val)\n",
    "    for item in taken:\n",
    "        print(' ', item)\n",
    "    \n",
    "def testGreedys(maxWeight = 20):\n",
    "    items = buildItems()\n",
    "    print('Use greedy by value to fill knapsack of size', maxWeight)\n",
    "    testGreedy(items, maxWeight, value)\n",
    "    print('\\nUse greedy by weight to fill knapsack of size',maxWeight)\n",
    "    testGreedy(items, maxWeight, weightInverse)\n",
    "    print('\\nUse greedy by density to fill knapsack of size',maxWeight)\n",
    "    testGreedy(items, maxWeight, density)"
   ]
  },
  {
   "cell_type": "code",
   "execution_count": 10,
   "metadata": {},
   "outputs": [
    {
     "name": "stdout",
     "output_type": "stream",
     "text": [
      "Use greedy by value to fill knapsack of size 20\n",
      "Total value of items taken is 200.0\n",
      "  <computer, 200, 20>\n",
      "\n",
      "Use greedy by weight to fill knapsack of size 20\n",
      "Total value of items taken is 170.0\n",
      "  <book, 10, 1>\n",
      "  <vase, 50, 2>\n",
      "  <radio, 20, 4>\n",
      "  <painting, 90, 9>\n",
      "\n",
      "Use greedy by density to fill knapsack of size 20\n",
      "Total value of items taken is 255.0\n",
      "  <vase, 50, 2>\n",
      "  <clock, 175, 10>\n",
      "  <book, 10, 1>\n",
      "  <radio, 20, 4>\n"
     ]
    }
   ],
   "source": [
    "testGreedys(maxWeight=20)"
   ]
  },
  {
   "cell_type": "markdown",
   "metadata": {},
   "source": [
    "#### 12.1.2 0/1背包问题的最优解\n",
    "每个物品都可以用一个值对<价值, 重量>表示；\n",
    "背包能够容纳的物品总重量不能超过w；\n",
    "长度为n的向量I表示一个可用的物品集合，向量中的每个元素都代表一个物品；\n",
    "长度为n的向量V表示物品是否被窃贼带走。如果V[i] = 1，则物品I[i]被带走；如果V[i] = 0，则物品I[i]没有被带走；\n",
    "目标是找到一个V，使得：$$\\sum_0^{n-1}{V[i]*I[i].value}$$的值最大，并满足约束条件: $$\\sum_0^{n-1}V[i]*I[i].weight <= w$$"
   ]
  },
  {
   "cell_type": "code",
   "execution_count": 11,
   "metadata": {},
   "outputs": [],
   "source": [
    "#0/1背包问题的暴力最优解\n",
    "def chooseBest(pset, maxWeight, getVal, getWeight):\n",
    "    bestVal = 0.0\n",
    "    bestSet = None\n",
    "    for items in pset:\n",
    "        itemsVal = 0.0\n",
    "        itemsWeight = 0.0\n",
    "        for item in items:\n",
    "            itemsVal += getVal(item)\n",
    "            itemsWeight += getWeight(item)\n",
    "        if itemsWeight <= maxWeight and itemsVal > bestVal:\n",
    "            bestVal = itemsVal\n",
    "            bestSet = items\n",
    "    return (bestSet, bestVal)\n",
    "\n",
    "def testBest(maxWeight=20):\n",
    "    items = buildItems()\n",
    "    pset = genPowerset(items)\n",
    "    taken, val = chooseBest(pset, maxWeight, Item.getValue, Item.getWeight)\n",
    "    print('Total value of items taken is', val)\n",
    "    for item in taken:\n",
    "        print(item)"
   ]
  },
  {
   "cell_type": "code",
   "execution_count": 14,
   "metadata": {},
   "outputs": [],
   "source": [
    "def getBinaryRep(n, numDigits):\n",
    "    '''假设n和numDigits为非负整数\n",
    "    返回一个长度为numDigits的字符串，为n的二进制表示'''\n",
    "    result = ''\n",
    "    while n > 0:\n",
    "        result = str(n%2) + result\n",
    "        n = n//2\n",
    "    if len(result) > numDigits:\n",
    "        raise ValueError('not enough digits')\n",
    "    for i in range(numDigits - len(result)):\n",
    "        result = '0' + result\n",
    "    return result\n",
    "\n",
    "def genPowerset(L):\n",
    "    '''假设L是列表\n",
    "    返回一个列表，包含L中元素所有可能的集合。例如L=【1,2】,则返回的列表元素【1】，【2】，【1,2】'''\n",
    "    powerset = []\n",
    "    for i in range(0, 2**len(L)):\n",
    "        binStr = getBinaryRep(i,len(L))\n",
    "        subset = []\n",
    "        for j in range(len(L)):\n",
    "            if binStr[j] == '1':\n",
    "                subset.append(L[j])\n",
    "        powerset.append(subset)\n",
    "    return powerset"
   ]
  },
  {
   "cell_type": "code",
   "execution_count": 15,
   "metadata": {},
   "outputs": [
    {
     "name": "stdout",
     "output_type": "stream",
     "text": [
      "Total value of items taken is 275.0\n",
      "<clock, 175, 10>\n",
      "<painting, 90, 9>\n",
      "<book, 10, 1>\n"
     ]
    }
   ],
   "source": [
    "testBest()"
   ]
  },
  {
   "cell_type": "markdown",
   "metadata": {},
   "source": [
    "这个解优于通过贪婪算法找到的任何一个解。贪婪算法的本质是在每一步都做出当前情况下最优（按照某种测量方式的定义）的选择，即它的选择是局部最优的。但正如这个例子\n",
    "所示，一系列局部最优决策不一定会得出全局最优的解决方案"
   ]
  },
  {
   "cell_type": "markdown",
   "metadata": {},
   "source": [
    "### 12.2 图的最优化问题\n",
    "图：由变连接起来的节点对象的集合\n",
    "有向图：边是单向的\n",
    "加权图：图的每条边被赋予一个权重"
   ]
  },
  {
   "cell_type": "markdown",
   "metadata": {},
   "source": [
    "#### 12.2.1 一些典型的图论问题\n",
    "最短路径：对于两个节点，找到边的最短序列\n",
    "最短加权路径\n",
    "最大团：图中规模最大的团\n",
    "最小割：割是一个边的集合。去掉这组边之后，一个节点集合中的每个节点和另一个节点集合中的每个节点之间都不存在任何相连的路径。最小割就是这样一个最小的边的集合"
   ]
  },
  {
   "cell_type": "markdown",
   "metadata": {},
   "source": [
    "## 13.动态规划"
   ]
  },
  {
   "cell_type": "markdown",
   "metadata": {},
   "source": [
    "### 13.1 又见菲波那切数列"
   ]
  },
  {
   "cell_type": "code",
   "execution_count": 1,
   "metadata": {},
   "outputs": [],
   "source": [
    "def fib(n):\n",
    "    '''假设n是非负整数\n",
    "    返回第n个斐波那契数'''\n",
    "    if n == 0 or n == 1:\n",
    "        return 1\n",
    "    else:\n",
    "        return fib(n-1) + fib(n-2)\n",
    "#问题：重复计算\n",
    "#备忘录法\n",
    "def fastFib(n, memo={}):\n",
    "    '''假设n是非负整数，memo只进行'''\n",
    "    if n == 0 or n == 1:\n",
    "        return 1\n",
    "    try:\n",
    "        return memo[n]\n",
    "    except KeyError:\n",
    "        result = fastFib(n-1, memo) + fastFib(n-1, memo)\n",
    "        memo[n] = result\n",
    "        return result"
   ]
  },
  {
   "cell_type": "markdown",
   "metadata": {},
   "source": [
    "### 13.2 动态规划与0/1背包问题"
   ]
  },
  {
   "cell_type": "code",
   "execution_count": null,
   "metadata": {},
   "outputs": [],
   "source": [
    "#在0/1背包问题的搜索树中，每个节点都使用一个四元组进行标注，这个四元组表示的是这种背包问题的一个局部解。\n",
    "#1、要带走的物品集合；2、还没有决定是否要带走的物品集合；\n",
    "#3、要带走的物品集合中的物品总价值；（（这个值只是为了优化算法，因为可以从集合中计算出这个值））\n",
    "#4、背包的剩余空间（这也同样是一种算法优化方式，因为这个值可以通过背包允许的总重量减去当前要带走的物品总重量计算出来）"
   ]
  },
  {
   "cell_type": "code",
   "execution_count": null,
   "metadata": {},
   "outputs": [],
   "source": [
    "# 标签<{}, [a, b, c, d], 0, 5>表示没有选择物品，所有物品都处于待定状态，带走的物品总值为0，背包剩余空间还能容纳的重量为5"
   ]
  },
  {
   "cell_type": "code",
   "execution_count": null,
   "metadata": {},
   "outputs": [],
   "source": [
    "def maxVal(toConsider, avail):\n",
    "    '''假设toConsider是一个物品列表，avail表示重量\n",
    "    返回一个元组表示0/1背包问题的解，包括物品总价值和物品列表'''\n",
    "    if toConsider == [] or avail == 0:\n",
    "        result = (0, ())\n",
    "    elif toConsider[0].getWeight() > avail:\n",
    "        #探索右侧分支\n",
    "        result = maxVal(toConsider[1:], avail)\n",
    "    else:\n",
    "        nextItem = toConsider[0]\n",
    "        #探索左侧分支\n",
    "        withVal, withToTake = maxVal(toConsider[1:], avail - nextItem.getWeight())\n",
    "        withVal += nextItem.getValue()\n",
    "        #探索右侧分支\n",
    "        withoutVal, withoutToTake = maxVal(toConsider[1:], avail)\n",
    "        #选择更好的分支\n",
    "        if withVal > withoutVal:\n",
    "            result = (withVal, withToTake + (nextItem,))\n",
    "        else:\n",
    "            result = (withoutVal, withoutToTake)\n",
    "    return result"
   ]
  },
  {
   "cell_type": "markdown",
   "metadata": {},
   "source": [
    "### 13.3 动态规划与分治算法"
   ]
  },
  {
   "cell_type": "markdown",
   "metadata": {},
   "source": [
    "与分治算法一样，动态规划的基础也是先解决独立的子问题，再将子问题的解组合起来。\n",
    "分治算法的基础是找到规模远远小于初始问题的子问题。动态规划解决的子问题的规模只稍稍小于初始问题。"
   ]
  },
  {
   "cell_type": "markdown",
   "metadata": {},
   "source": [
    "## 14. 随机游走与数据可视化"
   ]
  },
  {
   "cell_type": "code",
   "execution_count": 2,
   "metadata": {},
   "outputs": [],
   "source": [
    "# 14.2 醉汉游走\n",
    "class Location(object):\n",
    "    def __init__(self, x, y):\n",
    "        '''x, y 为数值型'''\n",
    "        self.x, self.y = x, y\n",
    "    \n",
    "    def move(self, deltaX, deltaY):\n",
    "        '''deltaX和deltaY为数值型'''\n",
    "        return Location(self.x + deltaX, self.y + deltaY)\n",
    "    \n",
    "    def getX(self):\n",
    "        return self.x\n",
    "    \n",
    "    def getY(self):\n",
    "        return self.y\n",
    "    \n",
    "    def distFrom(self, other):\n",
    "        ox, oy = other.x, other.y\n",
    "        xDist, yDist = self.x-ox, self.y-oy\n",
    "        return (xDist**2 + yDist**2)**0.5\n",
    "    \n",
    "    def __str__(self):\n",
    "        return '<' + str(self.x) + ', ' + str(self.y) + '>'\n",
    "\n",
    "#这个类的作用是将醉汉与位置进行映射\n",
    "class Field(object):\n",
    "    def __init__(self):\n",
    "        self.drunks = {}\n",
    "        \n",
    "    def addDrunk(self, drunk, loc):\n",
    "        if drunk in self.drunks:\n",
    "            raise ValueError('Duplicate drunk')\n",
    "        else:\n",
    "            self.drunks[drunk] = loc\n",
    "            \n",
    "    def moveDrunk(self, drunk):\n",
    "        if drunk not in self.drunks:\n",
    "            raise ValueError('Drunk not in field')\n",
    "        xDist, yDist = drunk.takeStep()\n",
    "        currentLocation = self.drunks[drunk]\n",
    "        #使用Location的move方法获得一个新的位置\n",
    "        self.drunks[drunk] = currentLocation.move(xDist, yDist)\n",
    "        \n",
    "    def getLoc(self, drunk):\n",
    "        if drunk not in self.drunks:\n",
    "            raise ValueError('Drunk not in field')\n",
    "        return self.drunks[drunk]"
   ]
  },
  {
   "cell_type": "code",
   "execution_count": 3,
   "metadata": {},
   "outputs": [],
   "source": [
    "import random\n",
    "#Drunk类和UsualDrunk类定义了醉汉在田地中游走的方式\n",
    "class Drunk(object):\n",
    "    def __init__(self, name=None):\n",
    "        '''假设name是字符串'''\n",
    "        self.name = name\n",
    "        \n",
    "    def __str__(self):\n",
    "        if self != None:\n",
    "            return self.name\n",
    "        return 'Anonymous'\n",
    "    \n",
    "class UsualDrunk(Drunk):\n",
    "    def takeStep(self):\n",
    "        stepChoices = [(0,1),(0,-1),(1,0),(-1,0)]\n",
    "        return random.choice(stepChoices)\n",
    "        return random.choice(setpChoices)\n",
    "        "
   ]
  },
  {
   "cell_type": "code",
   "execution_count": 4,
   "metadata": {},
   "outputs": [],
   "source": [
    "#函数walk模拟了numSteps步的一次游走。函数simWalks调用walk模拟numTrials次游走，每次numSteps步。函数drunkTest调用simWalks模拟多次不同长度的游走。\n",
    "def walk(f, d, numSteps):\n",
    "    '''假设f是一个Field对象， d是f中的一个Drunk对象， numSteps是正整数。\n",
    "        将d移动numSteps次；返回这次游走最终位置与开始位置之间的距离'''\n",
    "    start = f.getLoc(d)\n",
    "    for s in range(numSteps):\n",
    "        f.moveDrunk(d)\n",
    "    return start.distFrom(f.getLoc(d))\n",
    "\n",
    "def simWalks(numSteps, numTrials, dClass):\n",
    "    '''假设numSteps是非负整数， numTrials是正整数，\n",
    "        dClass是Drunk的一个子类。\n",
    "        模拟numTrials次游走，每次游走numSteps步。\n",
    "        返回一个列表，表示每次模拟的最终距离'''\n",
    "    Homer = dClass()\n",
    "    origin = Location(0,0)\n",
    "    distances = []\n",
    "    for t in range(numTrials):\n",
    "        f = Field()\n",
    "        f.addDrunk(Homer, origin)\n",
    "        distances.append(round(walk(f, Homer, numSteps), 1))\n",
    "    return distances\n",
    "\n",
    "def drunkTest(walkLengths, numTrials, dClass):\n",
    "    '''假设walkLengths是非负整数序列\n",
    "numTrials是正整数， dClass是Drunk的一个子类\n",
    "对于walkLengths中的每个步数，运行numTrials次simWalks函数，并输出结果'''\n",
    "    for numSteps in walkLengths:\n",
    "        distances = simWalks(numSteps, numTrials, dClass)\n",
    "        print(dClass.__name__, 'random walk of', numSteps, 'steps')\n",
    "        print(' Mean =', round(sum(distances)/len(distances), 4))\n",
    "        print(' Max =', max(distances), 'Min =', min(distances))"
   ]
  },
  {
   "cell_type": "code",
   "execution_count": 5,
   "metadata": {},
   "outputs": [
    {
     "name": "stdout",
     "output_type": "stream",
     "text": [
      "UsualDrunk random walk of 10 steps\n",
      " Mean = 2.626\n",
      " Max = 7.1 Min = 0.0\n",
      "UsualDrunk random walk of 100 steps\n",
      " Mean = 9.172\n",
      " Max = 26.1 Min = 1.4\n",
      "UsualDrunk random walk of 1000 steps\n",
      " Mean = 28.328\n",
      " Max = 64.9 Min = 2.8\n",
      "UsualDrunk random walk of 10000 steps\n",
      " Mean = 89.62\n",
      " Max = 233.0 Min = 11.3\n"
     ]
    }
   ],
   "source": [
    "drunkTest((10,100,1000,10000),100,UsualDrunk)"
   ]
  },
  {
   "cell_type": "code",
   "execution_count": 6,
   "metadata": {},
   "outputs": [
    {
     "name": "stdout",
     "output_type": "stream",
     "text": [
      "UsualDrunk random walk of 0 steps\n",
      " Mean = 0.0\n",
      " Max = 0.0 Min = 0.0\n",
      "UsualDrunk random walk of 1 steps\n",
      " Mean = 1.0\n",
      " Max = 1.0 Min = 1.0\n"
     ]
    }
   ],
   "source": [
    "drunkTest((0,1),100,UsualDrunk)"
   ]
  },
  {
   "cell_type": "code",
   "execution_count": 7,
   "metadata": {},
   "outputs": [],
   "source": [
    "#Drunk基类的子类\n",
    "class ColdDrunk(Drunk):\n",
    "    def takeStep(self):\n",
    "        stepChoices = [(0.0,1.0), (0.0,-2.0),(1.0,0.0),(-1.0,0.0)]\n",
    "        return random.choice(stepChoices)\n",
    "    \n",
    "class EWDrunk(Drunk):\n",
    "    def takeStep(self):\n",
    "        stepChoices = [(1.0,0.0),(-1.0,0.0)]\n",
    "        return random.choice(stepChoices)\n",
    "    \n",
    "def simAll(drunkKinds, walkLengths, numTrials):\n",
    "    for dClass in drunkKinds:\n",
    "        drunkTest(walkLengths, numTrials, dClass)"
   ]
  },
  {
   "cell_type": "code",
   "execution_count": 8,
   "metadata": {},
   "outputs": [
    {
     "name": "stdout",
     "output_type": "stream",
     "text": [
      "UsualDrunk random walk of 100 steps\n",
      " Mean = 11.63\n",
      " Max = 22.8 Min = 4.5\n",
      "UsualDrunk random walk of 1000 steps\n",
      " Mean = 25.91\n",
      " Max = 47.7 Min = 5.7\n",
      "ColdDrunk random walk of 100 steps\n",
      " Mean = 24.84\n",
      " Max = 32.4 Min = 14.3\n",
      "ColdDrunk random walk of 1000 steps\n",
      " Mean = 263.28\n",
      " Max = 324.1 Min = 202.5\n",
      "EWDrunk random walk of 100 steps\n",
      " Mean = 5.4\n",
      " Max = 14.0 Min = 0.0\n",
      "EWDrunk random walk of 1000 steps\n",
      " Mean = 24.8\n",
      " Max = 60.0 Min = 0.0\n"
     ]
    }
   ],
   "source": [
    "simAll((UsualDrunk, ColdDrunk, EWDrunk),(100,1000),10)"
   ]
  },
  {
   "cell_type": "code",
   "execution_count": 9,
   "metadata": {},
   "outputs": [],
   "source": [
    "#可视化\n",
    "#styleIterator类是一个迭代器，可以在一个样式序列间滚动轮换\n",
    "class styleIterator(object):\n",
    "    def __init__(self, styles):\n",
    "        self.index = 0\n",
    "        self.styles = styles\n",
    "        \n",
    "    def nextStyle(self):\n",
    "        result = self.styles[self.index]\n",
    "        if self.index == len(self.styles) -1:\n",
    "            self.index = 0\n",
    "            \n",
    "        else:\n",
    "            self.index += 1\n",
    "        return result"
   ]
  },
  {
   "cell_type": "code",
   "execution_count": 12,
   "metadata": {},
   "outputs": [],
   "source": [
    "import pylab"
   ]
  },
  {
   "cell_type": "code",
   "execution_count": 13,
   "metadata": {},
   "outputs": [
    {
     "name": "stdout",
     "output_type": "stream",
     "text": [
      "Starting simulation of UsualDrunk\n",
      "Starting simulation of 10 steps\n",
      "Starting simulation of 100 steps\n",
      "Starting simulation of 1000 steps\n",
      "Starting simulation of 10000 steps\n",
      "Starting simulation of 100000 steps\n",
      "Starting simulation of ColdDrunk\n",
      "Starting simulation of 10 steps\n",
      "Starting simulation of 100 steps\n",
      "Starting simulation of 1000 steps\n",
      "Starting simulation of 10000 steps\n",
      "Starting simulation of 100000 steps\n",
      "Starting simulation of EWDrunk\n",
      "Starting simulation of 10 steps\n",
      "Starting simulation of 100 steps\n",
      "Starting simulation of 1000 steps\n",
      "Starting simulation of 10000 steps\n",
      "Starting simulation of 100000 steps\n"
     ]
    }
   ],
   "source": [
    "def simDrunk(numTrials, dClass, walkLengths):\n",
    "    meanDistances = []\n",
    "    for numSteps in walkLengths:\n",
    "        print('Starting simulation of', numSteps, 'steps')\n",
    "        trials = simWalks(numSteps, numTrials, dClass)\n",
    "        mean = sum(trials)/len(trials)\n",
    "        meanDistances.append(mean)\n",
    "    return meanDistances\n",
    "\n",
    "def simAll1(drunkKinds, walkLengths, numTrials):\n",
    "    styleChoice = styleIterator(('m-', 'r:', 'k-.'))\n",
    "    for dClass in drunkKinds:\n",
    "        curStyle = styleChoice.nextStyle()\n",
    "        print('Starting simulation of', dClass.__name__)\n",
    "        means = simDrunk(numTrials, dClass, walkLengths)\n",
    "        pylab.plot(walkLengths, means, curStyle, label=dClass.__name__)\n",
    "    pylab.title('Mean Distance from Origin ('+ str(numTrials)+' trials)')\n",
    "    pylab.xlabel('Number of Steps')\n",
    "    pylab.ylabel('Distance from Origin')\n",
    "    pylab.legend(loc = 'best')\n",
    "    pylab.semilogx()\n",
    "    pylab.semilogy()\n",
    "\n",
    "simAll1((UsualDrunk, ColdDrunk, EWDrunk),(10,100,1000,10000,100000),100)"
   ]
  },
  {
   "cell_type": "code",
   "execution_count": 14,
   "metadata": {},
   "outputs": [
    {
     "data": {
      "image/png": "[encoded data removed]",
      "text/plain": [
       "<matplotlib.figure.Figure at 0x302abe0>"
      ]
     },
     "metadata": {},
     "output_type": "display_data"
    }
   ],
   "source": [
    "pylab.show()"
   ]
  },
  {
   "cell_type": "code",
   "execution_count": 20,
   "metadata": {},
   "outputs": [
    {
     "data": {
      "image/png": "[encoded data removed]",
      "text/plain": [
       "<matplotlib.figure.Figure at 0x14452f28>"
      ]
     },
     "metadata": {},
     "output_type": "display_data"
    }
   ],
   "source": [
    "#绘制了对于某个特定的步数，各个醉汉的最终位置分布\n",
    "def getFinalLocs(numSteps, numTrials, dClass):\n",
    "    locs = []\n",
    "    d = dClass()\n",
    "    for t in range(numTrials):\n",
    "        f = Field()\n",
    "        f.addDrunk(d, Location(0,0))\n",
    "        for s in range(numSteps):\n",
    "            f.moveDrunk(d)\n",
    "        locs.append(f.getLoc(d))\n",
    "    return locs\n",
    "\n",
    "def plotLocs(drunkKinds, numSteps, numTrials):\n",
    "    styleChoice = styleIterator(('k+', 'r^', 'mo'))\n",
    "    for dClass in drunkKinds:\n",
    "        locs = getFinalLocs(numSteps, numTrials, dClass)\n",
    "        xVals, yVals = [], []\n",
    "        for loc in locs:\n",
    "            xVals.append(loc.getX())\n",
    "            yVals.append(loc.getY())\n",
    "        meanX = sum(xVals)/len(xVals)\n",
    "        meanY = sum(yVals)/len(yVals)\n",
    "        curStyle = styleChoice.nextStyle()\n",
    "        pylab.plot(xVals, yVals, curStyle, label=dClass.__name__ + ' mean loc. = <' + str(meanX) + ', ' + str(meanY) + '>' )\n",
    "        pylab.title('Location at End of Walks ('+ str(numSteps) + 'steps)')\n",
    "        pylab.xlabel('Steps East/West of Origin')\n",
    "        pylab.ylabel('Steps North/South of Origin')\n",
    "        pylab.legend(loc = 'lower left')\n",
    "\n",
    "plotLocs((UsualDrunk, ColdDrunk, EWDrunk),100, 200)\n",
    "pylab.show()"
   ]
  },
  {
   "cell_type": "code",
   "execution_count": 22,
   "metadata": {},
   "outputs": [
    {
     "data": {
      "image/png": "[encoded data removed]",
      "text/plain": [
       "<matplotlib.figure.Figure at 0x145bd7f0>"
      ]
     },
     "metadata": {},
     "output_type": "display_data"
    }
   ],
   "source": [
    "#单次游走经过的路径\n",
    "def traceWalk(drunkKinds, numSteps):\n",
    "    styleChoice = styleIterator(('k+', 'r^', 'mo'))\n",
    "    f = Field()\n",
    "    for dClass in drunkKinds:\n",
    "        d = dClass()\n",
    "        f.addDrunk(d,Location(0,0))\n",
    "        locs = []\n",
    "        for s in range(numSteps):\n",
    "            f.moveDrunk(d)\n",
    "            locs.append(f.getLoc(d))\n",
    "        xVals, yVals = [], []\n",
    "        for loc in locs:\n",
    "            xVals.append(loc.getX())\n",
    "            yVals.append(loc.getY())\n",
    "        curStyle = styleChoice.nextStyle()\n",
    "        pylab.plot(xVals, yVals, curStyle, label=dClass.__name__)\n",
    "        pylab.title('Spots Visited on Walk ('+str(numSteps) + ' steps)')\n",
    "        pylab.xlabel('Steps East/West of Origin')\n",
    "        pylab.ylabel('Steps North/South of Origin')\n",
    "        pylab.legend(loc = 'best')\n",
    "        \n",
    "traceWalk((UsualDrunk, ColdDrunk, EWDrunk), 200)\n",
    "pylab.show()"
   ]
  },
  {
   "cell_type": "markdown",
   "metadata": {},
   "source": [
    "## 15. 随机程序、概率与分布"
   ]
  },
  {
   "cell_type": "code",
   "execution_count": 23,
   "metadata": {},
   "outputs": [],
   "source": [
    "#模拟抛一个均匀硬币numFlips次\n",
    "def flip(numFlips):\n",
    "    '''假设numFlips是一个正整数'''\n",
    "    heads = 0\n",
    "    for i in range(numFlips):\n",
    "        if random.choice(('H', 'T')) == 'H':\n",
    "            heads += 1\n",
    "    return heads/numFlips\n",
    "\n",
    "def flipSim(numFlipsPerTrial, numTrials):\n",
    "    '''假设numFlipsPerTrial和numTrials是正整数'''\n",
    "    fracHeads = []\n",
    "    for i in range(numTrials):\n",
    "        fracHeads.append(flip(numFlipsPerTrial))\n",
    "    mean = sum(fracHeads)/len(fracHeads)\n",
    "    return mean"
   ]
  },
  {
   "cell_type": "code",
   "execution_count": 27,
   "metadata": {},
   "outputs": [
    {
     "data": {
      "text/plain": [
       "0.3"
      ]
     },
     "execution_count": 27,
     "metadata": {},
     "output_type": "execute_result"
    }
   ],
   "source": [
    "flip(10)"
   ]
  },
  {
   "cell_type": "code",
   "execution_count": 30,
   "metadata": {},
   "outputs": [
    {
     "data": {
      "text/plain": [
       "0.5093"
      ]
     },
     "execution_count": 30,
     "metadata": {},
     "output_type": "execute_result"
    }
   ],
   "source": [
    "flip(10000)"
   ]
  },
  {
   "cell_type": "code",
   "execution_count": 24,
   "metadata": {},
   "outputs": [
    {
     "data": {
      "text/plain": [
       "0.7"
      ]
     },
     "execution_count": 24,
     "metadata": {},
     "output_type": "execute_result"
    }
   ],
   "source": [
    "flipSim(10,1)"
   ]
  },
  {
   "cell_type": "code",
   "execution_count": 25,
   "metadata": {},
   "outputs": [
    {
     "data": {
      "text/plain": [
       "0.55"
      ]
     },
     "execution_count": 25,
     "metadata": {},
     "output_type": "execute_result"
    }
   ],
   "source": [
    "flipSim(10,2)"
   ]
  },
  {
   "cell_type": "code",
   "execution_count": 26,
   "metadata": {},
   "outputs": [
    {
     "data": {
      "text/plain": [
       "0.49066666666666664"
      ]
     },
     "execution_count": 26,
     "metadata": {},
     "output_type": "execute_result"
    }
   ],
   "source": [
    "flipSim(1000,3)"
   ]
  },
  {
   "cell_type": "code",
   "execution_count": 31,
   "metadata": {},
   "outputs": [
    {
     "data": {
      "image/png": "[encoded data removed]",
      "text/plain": [
       "<matplotlib.figure.Figure at 0x14532f98>"
      ]
     },
     "metadata": {},
     "output_type": "display_data"
    }
   ],
   "source": [
    "#均值回归现象绘图\n",
    "def regressToMean(numFlips, numTrials):\n",
    "    #获取每次实验（抛掷numFlips次硬币）中正面向上的比例\n",
    "    fracHeads = []\n",
    "    for t in range(numTrials):\n",
    "        fracHeads.append(flip(numFlips))\n",
    "    #找出具有极端结果的实验，以及这些实验的下一次实验\n",
    "    extremes, nextTrials = [], []\n",
    "    for i in range(len(fracHeads) - 1):\n",
    "        if fracHeads[i] < 0.33 or fracHeads[i]>0.66:\n",
    "            extremes.append(fracHeads[i])\n",
    "            nextTrials.append(fracHeads[i+1])\n",
    "    #绘制结果\n",
    "    pylab.plot(range(len(extremes)), extremes, 'ko', label='Extreme')\n",
    "    pylab.plot(range(len(nextTrials)), nextTrials,'k^',label='Next Trial')\n",
    "    pylab.axhline(0.5)\n",
    "    pylab.ylim(0,1)\n",
    "    pylab.xlim(-1,len(extremes) + 1)\n",
    "    pylab.xlabel('Extreme Example and Next Trial')\n",
    "    pylab.ylabel('Fraction Heads')\n",
    "    pylab.title('Regression to the Mean')\n",
    "    pylab.legend(loc='best')\n",
    "    \n",
    "regressToMean(15,40)\n",
    "pylab.show()"
   ]
  },
  {
   "cell_type": "code",
   "execution_count": 36,
   "metadata": {},
   "outputs": [
    {
     "data": {
      "image/png": "[encoded data removed]",
      "text/plain": [
       "<matplotlib.figure.Figure at 0x2fe7390>"
      ]
     },
     "metadata": {},
     "output_type": "display_data"
    },
    {
     "data": {
      "image/png": "[encoded data removed]",
      "text/plain": [
       "<matplotlib.figure.Figure at 0x14312400>"
      ]
     },
     "metadata": {},
     "output_type": "display_data"
    }
   ],
   "source": [
    "#绘制抛硬币的结果\n",
    "def flipPlot(minExp, maxExp):\n",
    "    '''假设minExp和maxExp是正整数； minExp<maxExp\n",
    "        绘制出从2**minExp到2**maxExp次硬币投掷的结果'''\n",
    "    ratios, diffs, xAxis = [], [], []\n",
    "    for exp in range(minExp, maxExp+1):\n",
    "        xAxis.append(2**exp)\n",
    "    for numFlips in xAxis:\n",
    "        numHeads = 0\n",
    "        for n in range(numFlips):\n",
    "            if random.choice(('H', 'T')) == 'H':\n",
    "                numHeads += 1\n",
    "        numTails = numFlips - numHeads\n",
    "        try:\n",
    "            ratios.append(numHeads/numTails)\n",
    "            diffs.append(abs(numHeads - numTails))\n",
    "        except ZeroDivisionError:\n",
    "            continue\n",
    "    pylab.title('Difference Between Heads and Tails')\n",
    "    pylab.xlabel('Number of Flips')\n",
    "    pylab.ylabel('Abs(#Heads - #Tails)')\n",
    "    pylab.plot(xAxis, diffs, 'k')\n",
    "    pylab.figure()\n",
    "    pylab.title('Heads/Tails Ratios')\n",
    "    pylab.xlabel('Number of Flips')\n",
    "    pylab.ylabel('#Heads/#Tails')\n",
    "    pylab.plot(xAxis, ratios, 'ko')    \n",
    "    \n",
    "random.seed(0)\n",
    "flipPlot(4,20)\n",
    "pylab.show()"
   ]
  },
  {
   "cell_type": "code",
   "execution_count": 1,
   "metadata": {},
   "outputs": [],
   "source": [
    "months = [0]*12"
   ]
  },
  {
   "cell_type": "code",
   "execution_count": 2,
   "metadata": {},
   "outputs": [
    {
     "data": {
      "text/plain": [
       "[0, 0, 0, 0, 0, 0, 0, 0, 0, 0, 0, 0]"
      ]
     },
     "execution_count": 2,
     "metadata": {},
     "output_type": "execute_result"
    }
   ],
   "source": [
    "months"
   ]
  },
  {
   "cell_type": "code",
   "execution_count": 4,
   "metadata": {},
   "outputs": [],
   "source": [
    "import random"
   ]
  },
  {
   "cell_type": "code",
   "execution_count": 6,
   "metadata": {},
   "outputs": [
    {
     "data": {
      "text/plain": [
       "\u001b[1;31mSignature:\u001b[0m \u001b[0mrandom\u001b[0m\u001b[1;33m.\u001b[0m\u001b[0mrandint\u001b[0m\u001b[1;33m(\u001b[0m\u001b[0ma\u001b[0m\u001b[1;33m,\u001b[0m \u001b[0mb\u001b[0m\u001b[1;33m)\u001b[0m\u001b[1;33m\u001b[0m\u001b[0m\n",
       "\u001b[1;31mDocstring:\u001b[0m\n",
       "Return random integer in range [a, b], including both end points.\n",
       "        \n",
       "\u001b[1;31mFile:\u001b[0m      c:\\programdata\\anaconda3\\lib\\random.py\n",
       "\u001b[1;31mType:\u001b[0m      method\n"
      ]
     },
     "metadata": {},
     "output_type": "display_data"
    }
   ],
   "source": [
    "random.randint?"
   ]
  },
  {
   "cell_type": "markdown",
   "metadata": {},
   "source": [
    "## 22. 机器学习简介"
   ]
  },
  {
   "cell_type": "markdown",
   "metadata": {},
   "source": [
    "机器学习方法一般分为三个部分：\n",
    "1、模型的表示；（模型）\n",
    "2、用于评估模型优度的目标函数；（策略）\n",
    "3、一种优化方法，可以通过学习找出一个模型，是目标函数值最小化或最大化（算法）\n",
    "\n",
    "一般可以分为有监督学习和无监督学习。（还有迁移学习）"
   ]
  },
  {
   "cell_type": "markdown",
   "metadata": {},
   "source": [
    "一般来说，非监督式机器学习分为两种，一种是聚类方法，另一种是隐变量模型学习方法。"
   ]
  },
  {
   "cell_type": "markdown",
   "metadata": {},
   "source": [
    "特征工程的目的就是将现有数据中可以作为信号的特征与那些仅是噪声的特征区分开来。"
   ]
  },
  {
   "cell_type": "markdown",
   "metadata": {},
   "source": [
    "## 23.聚类"
   ]
  },
  {
   "cell_type": "markdown",
   "metadata": {},
   "source": [
    "K均值算法的一个问题是，最后的返回值严重依赖于初始随机选择的质心集合。如果选择了\n",
    "一组非常糟糕的初始质心，那么算法得到的局部最优解会严重偏离全局最优解。在实际使用中，\n",
    "解决这个问题的一般方法是，**多次选择初始质心集合以多次运行K-均值算法**，然后选择使簇集合\n",
    "相异度最小的那个解"
   ]
  },
  {
   "cell_type": "code",
   "execution_count": null,
   "metadata": {},
   "outputs": [],
   "source": [
    "#哺乳动物齿系聚类\n",
    "def readMammalData(fName):\n",
    "    dataFile = open(fName, 'r')\n",
    "    numFeatures = 0\n",
    "    #处理文件开头的那些行\n",
    "    for line in dataFile:#找出特征数量\n",
    "        if line[0:6] == "
   ]
  },
  {
   "cell_type": "code",
   "execution_count": 70,
   "metadata": {},
   "outputs": [],
   "source": [
    "with open('哺乳动物的齿系.txt', 'rb') as f:\n",
    "    r = f.readlines()\n",
    "    #读取时出现错误提示“UnicodeDecodeError: 'gbk' codec can't decode byte 0xbf in position 2: illegal multibyte sequence”\n",
    "    #通过加‘rb’参数解决"
   ]
  },
  {
   "cell_type": "code",
   "execution_count": 75,
   "metadata": {},
   "outputs": [],
   "source": [
    "data = []\n",
    "for i in r:\n",
    "    i = i.strip()#去除空格\n",
    "    i = i.decode('utf-8-sig')#添加‘-sig’,去掉开头的‘\\ufeff’\n",
    "    #print(i)\n",
    "    data.append(i)"
   ]
  },
  {
   "cell_type": "code",
   "execution_count": 74,
   "metadata": {},
   "outputs": [
    {
     "data": {
      "text/plain": [
       "['#名称',\n",
       " '#上切牙',\n",
       " '#上尖牙',\n",
       " '#前臼齿',\n",
       " '#前磨牙',\n",
       " '#下切牙',\n",
       " '#下犬牙',\n",
       " '#下前臼齿',\n",
       " '#下臼齿',\n",
       " '#重量',\n",
       " '#标签： 0=草食动物 1=肉食动物 2=杂食动物',\n",
       " 'Badger,3,1,3,1,3,1,3,2,10,1',\n",
       " 'Bear,3,1,4,2,3,1,4,3,278,2',\n",
       " 'Beaver,1,0,2,3,1,0,1,3,20,0',\n",
       " 'Brown bat,2,1,1,3,3,1,2,3,0.5,1',\n",
       " 'Cat,3,1,3,1,3,1,2,1,4,1',\n",
       " 'Cougar,3,1,3,1,3,1,2,1,63,1',\n",
       " 'Cow,0,0,3,3,3,1,2,1,400,0',\n",
       " 'Deer,0,0,3,3,4,0,3,3,200,0',\n",
       " 'Dog,3,1,4,2,3,1,4,3,20,1',\n",
       " 'Elk,0,1,3,3,3,1,3,3,500,0',\n",
       " 'Fox,3,1,4,2,3,1,4,3,5,1',\n",
       " 'Fur seal,3,1,4,1,2,1,4,1,200,1',\n",
       " 'Grey seal,3,1,3,2,2,1,3,2,268,1',\n",
       " 'Guinea pig,1,0,1,3,1,0,1,3,1,0',\n",
       " 'Human,2,1,2,3,2,1,2,3,150,2',\n",
       " 'Jaguar,3,1,3,1,3,1,2,1,81,1',\n",
       " 'Kangaroo,3,1,2,4,1,0,2,4,55,0',\n",
       " 'Lion,3,1,3,1,3,1,2,1,175,1',\n",
       " 'Mink,3,1,3,1,3,1,3,2,1,1',\n",
       " 'Mole,3,1,4,3,3,1,4,3,0.75,1',\n",
       " 'Moose,0,0,3,3,4,0,3,3,900,0',\n",
       " 'Mouse,1,0,0,3,1,0,0,3,0.3,2',\n",
       " 'Pig,3,1,4,3,3,1,4,3,50,2',\n",
       " 'Porcupine,1,0,1,3,1,0,1,3,3,0',\n",
       " 'Rabbit,2,0,3,3,1,0,2,3,1,0',\n",
       " 'Raccoon,3,1,4,2,3,1,4,2,40,2',\n",
       " 'Rat,1,0,0,3,1,0,0,3,.75,2',\n",
       " 'Red bat,1,1,2,3,3,1,2,3,1,1',\n",
       " 'Sea lion,3,1,4,1,2,1,4,1,415,1',\n",
       " 'Skunk,3,1,3,1,3,1,3,2,2,2',\n",
       " 'Squirrel,1,0,2,3,1,0,1,3,2,2',\n",
       " 'Wolf,3,1,4,2,3,1,4,3,27,1',\n",
       " 'Woodchuck,1,0,2,3,1,0,1,3,4,2']"
      ]
     },
     "execution_count": 74,
     "metadata": {},
     "output_type": "execute_result"
    }
   ],
   "source": [
    "data"
   ]
  },
  {
   "cell_type": "code",
   "execution_count": null,
   "metadata": {},
   "outputs": [],
   "source": []
  }
 ],
 "metadata": {
  "kernelspec": {
   "display_name": "Python 3",
   "language": "python",
   "name": "python3"
  },
  "language_info": {
   "codemirror_mode": {
    "name": "ipython",
    "version": 3
   },
   "file_extension": ".py",
   "mimetype": "text/x-python",
   "name": "python",
   "nbconvert_exporter": "python",
   "pygments_lexer": "ipython3",
   "version": "3.6.3"
  }
 },
 "nbformat": 4,
 "nbformat_minor": 2
}
